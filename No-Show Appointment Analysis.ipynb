{
 "cells": [
  {
   "cell_type": "markdown",
   "id": "9c28ef8f",
   "metadata": {},
   "source": [
    "# Project 2: Investigate a Dataset"
   ]
  },
  {
   "cell_type": "markdown",
   "id": "f76a153b",
   "metadata": {},
   "source": [
    "### The dataset is (No-show appointments)"
   ]
  },
  {
   "cell_type": "code",
   "execution_count": 99,
   "id": "011ce7dc",
   "metadata": {},
   "outputs": [],
   "source": [
    "#import Python Libraries\n",
    "import numpy as np\n",
    "import pandas as pd\n",
    "import matplotlib.pyplot as plt\n",
    "import seaborn as sns"
   ]
  },
  {
   "cell_type": "markdown",
   "id": "d0070bd5",
   "metadata": {},
   "source": [
    "## Data Assessing and Wrangling"
   ]
  },
  {
   "cell_type": "markdown",
   "id": "48af38c4",
   "metadata": {},
   "source": [
    "-\tThe file contains Information about medical appointments in Brazil and specifies whether the patients show up for their appointment or not. The dataset contains a total of 110527 rows and 14 columns or features. \n",
    "-\tAfter I loaded and assessed the data in python, I noticed that there are no null or duplicate values to handle. \n",
    "-\tI did a descriptive summary and noticed that the minimum age is (-1) so I thought it was an outlier or data entry mistake that why I drop it.\n",
    "-\t I convert the AppointmentDay from object to date to be able to create a new column holding the weekdays for my analysis.\n",
    "-\tAlso, I convert the type of 'Gender', and 'Neighborhood' to categorical "
   ]
  },
  {
   "cell_type": "code",
   "execution_count": 100,
   "id": "07634886",
   "metadata": {},
   "outputs": [],
   "source": [
    "#read the csv file and save it into the data frame\n",
    "df = pd.read_csv('No_Show_Appointment.csv')"
   ]
  },
  {
   "cell_type": "code",
   "execution_count": 101,
   "id": "b8e208e9",
   "metadata": {},
   "outputs": [
    {
     "data": {
      "text/plain": [
       "(110527, 14)"
      ]
     },
     "execution_count": 101,
     "metadata": {},
     "output_type": "execute_result"
    }
   ],
   "source": [
    "#Number of rows and columns\n",
    "df.shape"
   ]
  },
  {
   "cell_type": "code",
   "execution_count": 102,
   "id": "a23fed4d",
   "metadata": {},
   "outputs": [
    {
     "data": {
      "text/plain": [
       "PatientId         float64\n",
       "AppointmentID       int64\n",
       "Gender             object\n",
       "ScheduledDay       object\n",
       "AppointmentDay     object\n",
       "Age                 int64\n",
       "Neighbourhood      object\n",
       "Scholarship         int64\n",
       "Hipertension        int64\n",
       "Diabetes            int64\n",
       "Alcoholism          int64\n",
       "Handcap             int64\n",
       "SMS_received        int64\n",
       "No-show            object\n",
       "dtype: object"
      ]
     },
     "execution_count": 102,
     "metadata": {},
     "output_type": "execute_result"
    }
   ],
   "source": [
    "#check Data Types\n",
    "df.dtypes"
   ]
  },
  {
   "cell_type": "code",
   "execution_count": 103,
   "id": "7b97ecaf",
   "metadata": {},
   "outputs": [
    {
     "data": {
      "text/plain": [
       "PatientId         0\n",
       "AppointmentID     0\n",
       "Gender            0\n",
       "ScheduledDay      0\n",
       "AppointmentDay    0\n",
       "Age               0\n",
       "Neighbourhood     0\n",
       "Scholarship       0\n",
       "Hipertension      0\n",
       "Diabetes          0\n",
       "Alcoholism        0\n",
       "Handcap           0\n",
       "SMS_received      0\n",
       "No-show           0\n",
       "dtype: int64"
      ]
     },
     "execution_count": 103,
     "metadata": {},
     "output_type": "execute_result"
    }
   ],
   "source": [
    "#Check null values\n",
    "df.isnull().sum()"
   ]
  },
  {
   "cell_type": "code",
   "execution_count": 7,
   "id": "28bcff5d",
   "metadata": {},
   "outputs": [
    {
     "data": {
      "text/plain": [
       "0"
      ]
     },
     "execution_count": 7,
     "metadata": {},
     "output_type": "execute_result"
    }
   ],
   "source": [
    "#check total duplicate values\n",
    "df.duplicated().sum()"
   ]
  },
  {
   "cell_type": "code",
   "execution_count": 104,
   "id": "2c1318b3",
   "metadata": {},
   "outputs": [
    {
     "name": "stdout",
     "output_type": "stream",
     "text": [
      "<class 'pandas.core.frame.DataFrame'>\n",
      "RangeIndex: 110527 entries, 0 to 110526\n",
      "Data columns (total 14 columns):\n",
      " #   Column          Non-Null Count   Dtype  \n",
      "---  ------          --------------   -----  \n",
      " 0   PatientId       110527 non-null  float64\n",
      " 1   AppointmentID   110527 non-null  int64  \n",
      " 2   Gender          110527 non-null  object \n",
      " 3   ScheduledDay    110527 non-null  object \n",
      " 4   AppointmentDay  110527 non-null  object \n",
      " 5   Age             110527 non-null  int64  \n",
      " 6   Neighbourhood   110527 non-null  object \n",
      " 7   Scholarship     110527 non-null  int64  \n",
      " 8   Hipertension    110527 non-null  int64  \n",
      " 9   Diabetes        110527 non-null  int64  \n",
      " 10  Alcoholism      110527 non-null  int64  \n",
      " 11  Handcap         110527 non-null  int64  \n",
      " 12  SMS_received    110527 non-null  int64  \n",
      " 13  No-show         110527 non-null  object \n",
      "dtypes: float64(1), int64(8), object(5)\n",
      "memory usage: 11.8+ MB\n"
     ]
    }
   ],
   "source": [
    "#view genral information about the data set attributes\n",
    "df.info()"
   ]
  },
  {
   "cell_type": "code",
   "execution_count": 105,
   "id": "1a42c2f3",
   "metadata": {},
   "outputs": [
    {
     "data": {
      "text/html": [
       "<div>\n",
       "<style scoped>\n",
       "    .dataframe tbody tr th:only-of-type {\n",
       "        vertical-align: middle;\n",
       "    }\n",
       "\n",
       "    .dataframe tbody tr th {\n",
       "        vertical-align: top;\n",
       "    }\n",
       "\n",
       "    .dataframe thead th {\n",
       "        text-align: right;\n",
       "    }\n",
       "</style>\n",
       "<table border=\"1\" class=\"dataframe\">\n",
       "  <thead>\n",
       "    <tr style=\"text-align: right;\">\n",
       "      <th></th>\n",
       "      <th>PatientId</th>\n",
       "      <th>AppointmentID</th>\n",
       "      <th>Age</th>\n",
       "      <th>Scholarship</th>\n",
       "      <th>Hipertension</th>\n",
       "      <th>Diabetes</th>\n",
       "      <th>Alcoholism</th>\n",
       "      <th>Handcap</th>\n",
       "      <th>SMS_received</th>\n",
       "    </tr>\n",
       "  </thead>\n",
       "  <tbody>\n",
       "    <tr>\n",
       "      <th>count</th>\n",
       "      <td>1.105270e+05</td>\n",
       "      <td>1.105270e+05</td>\n",
       "      <td>110527.000000</td>\n",
       "      <td>110527.000000</td>\n",
       "      <td>110527.000000</td>\n",
       "      <td>110527.000000</td>\n",
       "      <td>110527.000000</td>\n",
       "      <td>110527.000000</td>\n",
       "      <td>110527.000000</td>\n",
       "    </tr>\n",
       "    <tr>\n",
       "      <th>mean</th>\n",
       "      <td>1.474961e+14</td>\n",
       "      <td>5.675305e+06</td>\n",
       "      <td>37.088874</td>\n",
       "      <td>0.098266</td>\n",
       "      <td>0.197246</td>\n",
       "      <td>0.071865</td>\n",
       "      <td>0.030400</td>\n",
       "      <td>0.022248</td>\n",
       "      <td>0.321026</td>\n",
       "    </tr>\n",
       "    <tr>\n",
       "      <th>std</th>\n",
       "      <td>2.560943e+14</td>\n",
       "      <td>7.129575e+04</td>\n",
       "      <td>23.110205</td>\n",
       "      <td>0.297675</td>\n",
       "      <td>0.397921</td>\n",
       "      <td>0.258265</td>\n",
       "      <td>0.171686</td>\n",
       "      <td>0.161543</td>\n",
       "      <td>0.466873</td>\n",
       "    </tr>\n",
       "    <tr>\n",
       "      <th>min</th>\n",
       "      <td>3.920000e+04</td>\n",
       "      <td>5.030230e+06</td>\n",
       "      <td>-1.000000</td>\n",
       "      <td>0.000000</td>\n",
       "      <td>0.000000</td>\n",
       "      <td>0.000000</td>\n",
       "      <td>0.000000</td>\n",
       "      <td>0.000000</td>\n",
       "      <td>0.000000</td>\n",
       "    </tr>\n",
       "    <tr>\n",
       "      <th>25%</th>\n",
       "      <td>4.170000e+12</td>\n",
       "      <td>5.640286e+06</td>\n",
       "      <td>18.000000</td>\n",
       "      <td>0.000000</td>\n",
       "      <td>0.000000</td>\n",
       "      <td>0.000000</td>\n",
       "      <td>0.000000</td>\n",
       "      <td>0.000000</td>\n",
       "      <td>0.000000</td>\n",
       "    </tr>\n",
       "    <tr>\n",
       "      <th>50%</th>\n",
       "      <td>3.170000e+13</td>\n",
       "      <td>5.680573e+06</td>\n",
       "      <td>37.000000</td>\n",
       "      <td>0.000000</td>\n",
       "      <td>0.000000</td>\n",
       "      <td>0.000000</td>\n",
       "      <td>0.000000</td>\n",
       "      <td>0.000000</td>\n",
       "      <td>0.000000</td>\n",
       "    </tr>\n",
       "    <tr>\n",
       "      <th>75%</th>\n",
       "      <td>9.440000e+13</td>\n",
       "      <td>5.725524e+06</td>\n",
       "      <td>55.000000</td>\n",
       "      <td>0.000000</td>\n",
       "      <td>0.000000</td>\n",
       "      <td>0.000000</td>\n",
       "      <td>0.000000</td>\n",
       "      <td>0.000000</td>\n",
       "      <td>1.000000</td>\n",
       "    </tr>\n",
       "    <tr>\n",
       "      <th>max</th>\n",
       "      <td>1.000000e+15</td>\n",
       "      <td>5.790484e+06</td>\n",
       "      <td>115.000000</td>\n",
       "      <td>1.000000</td>\n",
       "      <td>1.000000</td>\n",
       "      <td>1.000000</td>\n",
       "      <td>1.000000</td>\n",
       "      <td>4.000000</td>\n",
       "      <td>1.000000</td>\n",
       "    </tr>\n",
       "  </tbody>\n",
       "</table>\n",
       "</div>"
      ],
      "text/plain": [
       "          PatientId  AppointmentID            Age    Scholarship  \\\n",
       "count  1.105270e+05   1.105270e+05  110527.000000  110527.000000   \n",
       "mean   1.474961e+14   5.675305e+06      37.088874       0.098266   \n",
       "std    2.560943e+14   7.129575e+04      23.110205       0.297675   \n",
       "min    3.920000e+04   5.030230e+06      -1.000000       0.000000   \n",
       "25%    4.170000e+12   5.640286e+06      18.000000       0.000000   \n",
       "50%    3.170000e+13   5.680573e+06      37.000000       0.000000   \n",
       "75%    9.440000e+13   5.725524e+06      55.000000       0.000000   \n",
       "max    1.000000e+15   5.790484e+06     115.000000       1.000000   \n",
       "\n",
       "        Hipertension       Diabetes     Alcoholism        Handcap  \\\n",
       "count  110527.000000  110527.000000  110527.000000  110527.000000   \n",
       "mean        0.197246       0.071865       0.030400       0.022248   \n",
       "std         0.397921       0.258265       0.171686       0.161543   \n",
       "min         0.000000       0.000000       0.000000       0.000000   \n",
       "25%         0.000000       0.000000       0.000000       0.000000   \n",
       "50%         0.000000       0.000000       0.000000       0.000000   \n",
       "75%         0.000000       0.000000       0.000000       0.000000   \n",
       "max         1.000000       1.000000       1.000000       4.000000   \n",
       "\n",
       "        SMS_received  \n",
       "count  110527.000000  \n",
       "mean        0.321026  \n",
       "std         0.466873  \n",
       "min         0.000000  \n",
       "25%         0.000000  \n",
       "50%         0.000000  \n",
       "75%         1.000000  \n",
       "max         1.000000  "
      ]
     },
     "execution_count": 105,
     "metadata": {},
     "output_type": "execute_result"
    }
   ],
   "source": [
    "#use Descriptive Analysis\n",
    "df.describe()"
   ]
  },
  {
   "cell_type": "code",
   "execution_count": 106,
   "id": "6dcfaeb1",
   "metadata": {},
   "outputs": [],
   "source": [
    "#Drop the row when age is -1  \n",
    "df.drop(df[df['Age']==-1].index, inplace= True)"
   ]
  },
  {
   "cell_type": "code",
   "execution_count": 107,
   "id": "9ffb5c30",
   "metadata": {},
   "outputs": [
    {
     "data": {
      "text/plain": [
       "0"
      ]
     },
     "execution_count": 107,
     "metadata": {},
     "output_type": "execute_result"
    }
   ],
   "source": [
    "#check the minimum age\n",
    "df['Age'].min()"
   ]
  },
  {
   "cell_type": "code",
   "execution_count": 108,
   "id": "340c23d4",
   "metadata": {},
   "outputs": [],
   "source": [
    "#Convert Appointment to date\n",
    "df['AppointmentDay'] = pd.to_datetime(df['AppointmentDay'])"
   ]
  },
  {
   "cell_type": "code",
   "execution_count": 109,
   "id": "f9966cf5",
   "metadata": {},
   "outputs": [
    {
     "data": {
      "text/plain": [
       "PatientId                     float64\n",
       "AppointmentID                   int64\n",
       "Gender                         object\n",
       "ScheduledDay                   object\n",
       "AppointmentDay    datetime64[ns, UTC]\n",
       "Age                             int64\n",
       "Neighbourhood                  object\n",
       "Scholarship                     int64\n",
       "Hipertension                    int64\n",
       "Diabetes                        int64\n",
       "Alcoholism                      int64\n",
       "Handcap                         int64\n",
       "SMS_received                    int64\n",
       "No-show                        object\n",
       "dtype: object"
      ]
     },
     "execution_count": 109,
     "metadata": {},
     "output_type": "execute_result"
    }
   ],
   "source": [
    "#check data types after converting\n",
    "df.dtypes"
   ]
  },
  {
   "cell_type": "code",
   "execution_count": 120,
   "id": "c1820456",
   "metadata": {},
   "outputs": [],
   "source": [
    "#create new column to identify the week days \n",
    "df['day_of_week'] = df['AppointmentDay'].dt.day_name()"
   ]
  },
  {
   "cell_type": "code",
   "execution_count": 121,
   "id": "32adad95",
   "metadata": {},
   "outputs": [
    {
     "data": {
      "text/html": [
       "<div>\n",
       "<style scoped>\n",
       "    .dataframe tbody tr th:only-of-type {\n",
       "        vertical-align: middle;\n",
       "    }\n",
       "\n",
       "    .dataframe tbody tr th {\n",
       "        vertical-align: top;\n",
       "    }\n",
       "\n",
       "    .dataframe thead th {\n",
       "        text-align: right;\n",
       "    }\n",
       "</style>\n",
       "<table border=\"1\" class=\"dataframe\">\n",
       "  <thead>\n",
       "    <tr style=\"text-align: right;\">\n",
       "      <th></th>\n",
       "      <th>PatientId</th>\n",
       "      <th>AppointmentID</th>\n",
       "      <th>Gender</th>\n",
       "      <th>ScheduledDay</th>\n",
       "      <th>AppointmentDay</th>\n",
       "      <th>Age</th>\n",
       "      <th>Neighbourhood</th>\n",
       "      <th>Scholarship</th>\n",
       "      <th>Hipertension</th>\n",
       "      <th>Diabetes</th>\n",
       "      <th>Alcoholism</th>\n",
       "      <th>Handcap</th>\n",
       "      <th>SMS_received</th>\n",
       "      <th>No-show</th>\n",
       "      <th>day_of_week</th>\n",
       "    </tr>\n",
       "  </thead>\n",
       "  <tbody>\n",
       "    <tr>\n",
       "      <th>0</th>\n",
       "      <td>2.990000e+13</td>\n",
       "      <td>5642903</td>\n",
       "      <td>F</td>\n",
       "      <td>2016-04-29T18:38:08Z</td>\n",
       "      <td>2016-04-29 00:00:00+00:00</td>\n",
       "      <td>62</td>\n",
       "      <td>JARDIM DA PENHA</td>\n",
       "      <td>0</td>\n",
       "      <td>1</td>\n",
       "      <td>0</td>\n",
       "      <td>0</td>\n",
       "      <td>0</td>\n",
       "      <td>0</td>\n",
       "      <td>No</td>\n",
       "      <td>Friday</td>\n",
       "    </tr>\n",
       "  </tbody>\n",
       "</table>\n",
       "</div>"
      ],
      "text/plain": [
       "      PatientId  AppointmentID Gender          ScheduledDay  \\\n",
       "0  2.990000e+13        5642903      F  2016-04-29T18:38:08Z   \n",
       "\n",
       "             AppointmentDay  Age    Neighbourhood  Scholarship  Hipertension  \\\n",
       "0 2016-04-29 00:00:00+00:00   62  JARDIM DA PENHA            0             1   \n",
       "\n",
       "   Diabetes  Alcoholism  Handcap  SMS_received No-show day_of_week  \n",
       "0         0           0        0             0      No      Friday  "
      ]
     },
     "execution_count": 121,
     "metadata": {},
     "output_type": "execute_result"
    }
   ],
   "source": [
    "#view the attributes\n",
    "df.head(1)"
   ]
  },
  {
   "cell_type": "code",
   "execution_count": 111,
   "id": "6fbcd3f2",
   "metadata": {},
   "outputs": [],
   "source": [
    "#Convert Neighbourhood, and Gender to Str\n",
    "for i in ['Gender', 'Neighbourhood']:\n",
    "    df[i] = df[i].astype('category')"
   ]
  },
  {
   "cell_type": "code",
   "execution_count": 112,
   "id": "b9c0c3f9",
   "metadata": {},
   "outputs": [
    {
     "data": {
      "text/plain": [
       "PatientId                     float64\n",
       "AppointmentID                   int64\n",
       "Gender                       category\n",
       "ScheduledDay                   object\n",
       "AppointmentDay    datetime64[ns, UTC]\n",
       "Age                             int64\n",
       "Neighbourhood                category\n",
       "Scholarship                     int64\n",
       "Hipertension                    int64\n",
       "Diabetes                        int64\n",
       "Alcoholism                      int64\n",
       "Handcap                         int64\n",
       "SMS_received                    int64\n",
       "No-show                        object\n",
       "dtype: object"
      ]
     },
     "execution_count": 112,
     "metadata": {},
     "output_type": "execute_result"
    }
   ],
   "source": [
    "#check data types after converting\n",
    "df.dtypes"
   ]
  },
  {
   "cell_type": "markdown",
   "id": "0571a308",
   "metadata": {},
   "source": [
    "## Data Exploring"
   ]
  },
  {
   "cell_type": "code",
   "execution_count": 123,
   "id": "3ab0f2cc",
   "metadata": {},
   "outputs": [],
   "source": [
    "#Create new data frame for the missed (No Show) appointments\n",
    "Missed = df[df['No-show']=='Yes']"
   ]
  },
  {
   "cell_type": "markdown",
   "id": "f809f1cf",
   "metadata": {},
   "source": [
    "### What is the percentage of patients who missed their appointments?"
   ]
  },
  {
   "cell_type": "markdown",
   "id": "9fd4eed7",
   "metadata": {},
   "source": [
    "I created piechart function to plot the pie chart and the parameters are data frame, column, and two labels. To answer the question I used No_show column to count the values of Yes and No then plot the result with the percentages. We have total 22319 missed appointments and their percent is 20% out of total."
   ]
  },
  {
   "cell_type": "code",
   "execution_count": 114,
   "id": "57a43d57",
   "metadata": {},
   "outputs": [],
   "source": [
    "#define the function\n",
    "def piechart(df,x,L1,L2):\n",
    "    #count the values of X\n",
    "    count = df[x].value_counts()\n",
    "    #plot the count using pie\n",
    "    plt.pie(count,autopct='%1.1f%%',labels = [L1,L2]);"
   ]
  },
  {
   "cell_type": "code",
   "execution_count": 115,
   "id": "ac7e19dd",
   "metadata": {},
   "outputs": [
    {
     "data": {
      "text/plain": [
       "Text(0.5, 1.0, 'The Show Up and Missed Appointments')"
      ]
     },
     "execution_count": 115,
     "metadata": {},
     "output_type": "execute_result"
    },
    {
     "data": {
      "image/png": "[encoded data removed]",
      "text/plain": [
       "<Figure size 432x288 with 1 Axes>"
      ]
     },
     "metadata": {},
     "output_type": "display_data"
    }
   ],
   "source": [
    "#define the labels\n",
    "Label1 = \"Show Up\"\n",
    "Label2 = \"Missed\"\n",
    "#call the function\n",
    "piechart(df,'No-show',Label1,Label2)\n",
    "#title\n",
    "plt.title('The Show Up and Missed Appointments')"
   ]
  },
  {
   "cell_type": "markdown",
   "id": "91ebe3d8",
   "metadata": {},
   "source": [
    "### Where did the most missed appointments happen?"
   ]
  },
  {
   "cell_type": "markdown",
   "id": "60783c78",
   "metadata": {},
   "source": [
    "I wanted to check if some of the neighborhoods are facing more missed appointments than others. I used value count to count the missed appointments by neighborhood and found out that JARDIM CAMBURI, MARIA ORTIZ, ITARARÉ, RESISTÊNCIA, and CENTRO are the top least attendance."
   ]
  },
  {
   "cell_type": "code",
   "execution_count": 116,
   "id": "db2ebc11",
   "metadata": {},
   "outputs": [
    {
     "data": {
      "text/plain": [
       "JARDIM CAMBURI                 1465\n",
       "MARIA ORTIZ                    1219\n",
       "ITARARÉ                         923\n",
       "RESISTÊNCIA                     906\n",
       "CENTRO                          703\n",
       "                               ... \n",
       "ILHA DO BOI                       3\n",
       "ILHA DO FRADE                     2\n",
       "ILHAS OCEÂNICAS DE TRINDADE       2\n",
       "AEROPORTO                         1\n",
       "PARQUE INDUSTRIAL                 0\n",
       "Name: Neighbourhood, Length: 81, dtype: int64"
      ]
     },
     "execution_count": 116,
     "metadata": {},
     "output_type": "execute_result"
    }
   ],
   "source": [
    "#count how many missed appointments in each neighbourhood\n",
    "Missed['Neighbourhood'].value_counts()"
   ]
  },
  {
   "cell_type": "markdown",
   "id": "bfadacf0",
   "metadata": {},
   "source": [
    "### Does the day of the week affect attendance?"
   ]
  },
  {
   "cell_type": "markdown",
   "id": "8a8ce02f",
   "metadata": {},
   "source": [
    "This idea came to my mind, there is a probability that patients missed their appointments more through workdays or weekends. I searched for Brazil workdays and weekends and create a new column for the days called day_of_week so I can use it for the histogram to count the number of missed appointments by day. After plotting the day of the week and the number of missed appointments, I don't see a strong relationship between the two of them, but most of the missed appointments occurred in the middle of the week."
   ]
  },
  {
   "cell_type": "markdown",
   "id": "3422b6dd",
   "metadata": {},
   "source": [
    "Workdays in Brazil: Monday, Tuesday, Wednesday, Thursday, Friday"
   ]
  },
  {
   "cell_type": "markdown",
   "id": "3695fc2c",
   "metadata": {},
   "source": [
    "Weekends in Brazil: Sturday, Sunday"
   ]
  },
  {
   "cell_type": "code",
   "execution_count": 124,
   "id": "4a24eaf2",
   "metadata": {
    "scrolled": true
   },
   "outputs": [
    {
     "data": {
      "text/plain": [
       "Monday       4690\n",
       "Tuesday      5152\n",
       "Wednesday    5093\n",
       "Thursday     3338\n",
       "Friday       4037\n",
       "Saturday        9\n",
       "Name: day_of_week, dtype: int64"
      ]
     },
     "execution_count": 124,
     "metadata": {},
     "output_type": "execute_result"
    }
   ],
   "source": [
    "days_sorted = ['Monday', 'Tuesday', 'Wednesday', 'Thursday', 'Friday', 'Saturday']\n",
    "#count the number of missed appointments by day\n",
    "Missed['day_of_week'].value_counts().reindex(days_sorted)"
   ]
  },
  {
   "cell_type": "code",
   "execution_count": 125,
   "id": "e8d77ed3",
   "metadata": {},
   "outputs": [
    {
     "data": {
      "text/plain": [
       "Text(0.5, 0, 'Weekdays')"
      ]
     },
     "execution_count": 125,
     "metadata": {},
     "output_type": "execute_result"
    },
    {
     "data": {
      "image/png": "[encoded data removed]",
      "text/plain": [
       "<Figure size 720x360 with 1 Axes>"
      ]
     },
     "metadata": {
      "needs_background": "light"
     },
     "output_type": "display_data"
    }
   ],
   "source": [
    "#plot the count of days ordered using reindex labeled and rotated\n",
    "Missed['day_of_week'].value_counts().reindex(days_sorted).plot.bar(edgecolor='black', figsize=[10,5], rot=0)\n",
    "#titles\n",
    "plt.title('Missed Appointments by Day')\n",
    "plt.ylabel('Number of Missed Appointments')\n",
    "plt.xlabel('Weekdays')"
   ]
  },
  {
   "cell_type": "markdown",
   "id": "db4c6a29",
   "metadata": {},
   "source": [
    "### Who's missed the appointments the most, (males or females)?"
   ]
  },
  {
   "cell_type": "markdown",
   "id": "07158dd7",
   "metadata": {},
   "source": [
    "I used the function that I defined above and use the gender column to plot the total number of male and female missed appointments. Females missed their appointments 65% more than males."
   ]
  },
  {
   "cell_type": "code",
   "execution_count": 95,
   "id": "8174ed88",
   "metadata": {},
   "outputs": [
    {
     "data": {
      "text/plain": [
       "Text(0.5, 1.0, 'Missed Appointments By Gender')"
      ]
     },
     "execution_count": 95,
     "metadata": {},
     "output_type": "execute_result"
    },
    {
     "data": {
      "image/png": "[encoded data removed]",
      "text/plain": [
       "<Figure size 432x288 with 1 Axes>"
      ]
     },
     "metadata": {},
     "output_type": "display_data"
    }
   ],
   "source": [
    "#define the labels\n",
    "Label1 = \"Female\"\n",
    "Label2 = \"Male\"\n",
    "#call the function\n",
    "piechart(Missed,'Gender',Label1,Label2)\n",
    "#title\n",
    "plt.title('Missed Appointments By Gender')"
   ]
  },
  {
   "cell_type": "markdown",
   "id": "f85b758c",
   "metadata": {},
   "source": [
    "### Is there a range of ages who missed their appointments the most? "
   ]
  },
  {
   "cell_type": "markdown",
   "id": "220e22b5",
   "metadata": {},
   "source": [
    "I used two line chart to visualize the diffrence between the total appointments (for those who missed or showed up) grouped by age, and I noticed that younger patients most probably missed their appointments. Also after using the bar chart I noticed that the more patient become old it's become least chance to miss appointments."
   ]
  },
  {
   "cell_type": "code",
   "execution_count": 64,
   "id": "3cc27b22",
   "metadata": {},
   "outputs": [
    {
     "data": {
      "text/plain": [
       "Text(0, 0.5, 'No-show')"
      ]
     },
     "execution_count": 64,
     "metadata": {},
     "output_type": "execute_result"
    },
    {
     "data": {
      "image/png": "[encoded data removed]",
      "text/plain": [
       "<Figure size 720x360 with 1 Axes>"
      ]
     },
     "metadata": {
      "needs_background": "light"
     },
     "output_type": "display_data"
    }
   ],
   "source": [
    "#group the age and count the no show values\n",
    "df.groupby('Age')['No-show'].value_counts(normalize=True).mul(100).unstack().plot(figsize=[10,5]);\n",
    "#titles\n",
    "plt.title('Age distribution')\n",
    "plt.xlabel('Age')\n",
    "plt.ylabel('No-show')"
   ]
  },
  {
   "cell_type": "code",
   "execution_count": 61,
   "id": "b2f7659e",
   "metadata": {},
   "outputs": [
    {
     "data": {
      "text/plain": [
       "Text(0, 0.5, 'Missed Appointments')"
      ]
     },
     "execution_count": 61,
     "metadata": {},
     "output_type": "execute_result"
    },
    {
     "data": {
      "image/png": "[encoded data removed]",
      "text/plain": [
       "<Figure size 1800x720 with 1 Axes>"
      ]
     },
     "metadata": {
      "needs_background": "light"
     },
     "output_type": "display_data"
    }
   ],
   "source": [
    "#also here I show the distribution on one varabile the age\n",
    "Missed['Age'].value_counts().sort_index().plot.bar(edgecolor='black', figsize=[25,10],rot=0,width=0.8);\n",
    "#titles\n",
    "plt.title('Age distribution')\n",
    "plt.xlabel('Age')\n",
    "plt.ylabel('Missed Appointments')"
   ]
  },
  {
   "cell_type": "markdown",
   "id": "8431faab",
   "metadata": {},
   "source": [
    "## Analysis Conclusion"
   ]
  },
  {
   "cell_type": "markdown",
   "id": "35e8b894",
   "metadata": {},
   "source": [
    "- 20% of the patients missed their appointment and most of them were in the following neighborhoods JARDIM CAMBURI, MARIA ORTIZ, ITARARÉ, RESISTÊNCIA, CENTRO\n",
    "- In general, the missed appointments occurred on both workdays and weekends the same. No appointments are scheduled on Sunday and the total number of appointments on Saturday is very small compared to the rest week\n",
    "- Females are most likely to miss their appointments compared to the males\n",
    "- I used scatter plot and noticed that younger patients are more likely to miss their appointments(Negative Correlation).\n",
    "- Limitation: I think having more features/factors in the dataset will help for this type of analysis and reaching insights and clarify many things. Also, to have more records of the missed appointments to study patients' characteristics and behavior."
   ]
  }
 ],
 "metadata": {
  "kernelspec": {
   "display_name": "Python 3 (ipykernel)",
   "language": "python",
   "name": "python3"
  },
  "language_info": {
   "codemirror_mode": {
    "name": "ipython",
    "version": 3
   },
   "file_extension": ".py",
   "mimetype": "text/x-python",
   "name": "python",
   "nbconvert_exporter": "python",
   "pygments_lexer": "ipython3",
   "version": "3.9.12"
  }
 },
 "nbformat": 4,
 "nbformat_minor": 5
}
